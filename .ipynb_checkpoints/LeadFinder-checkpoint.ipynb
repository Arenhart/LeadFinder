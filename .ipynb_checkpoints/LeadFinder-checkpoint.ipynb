{
 "cells": [
  {
   "cell_type": "code",
   "execution_count": 1,
   "metadata": {},
   "outputs": [],
   "source": [
    "import pandas as pd\n",
    "import seaborn as sns\n",
    "import matplotlib.pyplot as plt\n",
    "from sklearn.impute import SimpleImputer\n",
    "from catboost import CatBoostRegressor\n",
    "import shap\n",
    "import ipywidgets as widgets"
   ]
  },
  {
   "cell_type": "code",
   "execution_count": 4,
   "metadata": {},
   "outputs": [],
   "source": [
    "market = pd.read_csv('estaticos_market.csv')\n",
    "market.drop('Unnamed: 0', axis=1, inplace=True)\n",
    "\n",
    "for col in market.columns:\n",
    "    if market[col].isna().sum()/market[col].size >= 0.9:\n",
    "        market.drop(col, axis=1, inplace=True)\n",
    "        \n",
    "obj_df = market.select_dtypes(exclude = 'number')\n",
    "for col in obj_df.columns:\n",
    "    market[col].fillna(value='NA', inplace=True)\n",
    "    \n",
    "num_df = market.select_dtypes(include = 'number')\n",
    "inputer = SimpleImputer(strategy = 'median', verbose=1)\n",
    "filled_array = inputer.fit_transform(num_df)\n",
    "num_df = pd.DataFrame(filled_array, columns=num_df.columns, index=num_df.index)\n",
    "\n",
    "for col in num_df.columns:\n",
    "    if num_df[col].var() < 0.1:\n",
    "        num_df.drop(col, axis=1, inplace=True)\n",
    "        \n",
    "df = pd.concat((obj_df, num_df), axis=1)\n",
    "df.set_index(df['id'],inplace=True)\n",
    "df.drop('id', axis=1, inplace=True)\n",
    "\n",
    "cat = CatBoostRegressor(silent=True, iterations=200, max_depth = 5)\n",
    "\n",
    "def train_classifier(classifier, client_list):\n",
    "    market_clients = market.set_index('id')\n",
    "    market_clients['is_client'] = 0\n",
    "    market_clients.loc[client_list.array, 'is_client'] = 1\n",
    "    target = market_clients['is_client']\n",
    "    features = market_clients.drop('is_client', axis=1)\n",
    "    cat_columns = features.select_dtypes(exclude = 'number').columns\n",
    "    classifier.fit(features, target, cat_features=cat_columns)\n",
    "    \n",
    "def get_predict(classifier, client_list):\n",
    "    prospects = market.set_index('id')\n",
    "    prospects['is_client'] = 0\n",
    "    prospects.loc[client_list.array, 'is_client'] = 1\n",
    "    prospects = prospects[prospects['is_client'] == 0]\n",
    "    prospects.drop('is_client', axis=1, inplace=True)\n",
    "    return classifier.predict(prospects)\n",
    "\n",
    "def get_shap(classifier, client_list):\n",
    "    prospects = market.set_index('id')\n",
    "    prospects['is_client'] = 0\n",
    "    prospects.loc[client_list.array, 'is_client'] = 1\n",
    "    prospects = prospects[prospects['is_client'] == 0]\n",
    "    prospects.drop('is_client', axis=1, inplace=True)\n",
    "    explainer = shap.TreeExplainer(cat)\n",
    "    return explainer.shap_values(prospects)"
   ]
  },
  {
   "cell_type": "code",
   "execution_count": 20,
   "metadata": {},
   "outputs": [
    {
     "data": {
      "application/vnd.jupyter.widget-view+json": {
       "model_id": "fd9b6b1b021742d8901dbe475137266c",
       "version_major": 2,
       "version_minor": 0
      },
      "text/plain": [
       "FileUpload(value={}, accept='.csv', description='Upload')"
      ]
     },
     "metadata": {},
     "output_type": "display_data"
    }
   ],
   "source": [
    "w = widgets.FileUpload(\n",
    "    accept='.csv',  # Accepted file extension e.g. '.txt', '.pdf', 'image/*', 'image/*,.pdf'\n",
    "    multiple=False  # True to accept multiple files upload else False\n",
    ")\n",
    "display(w)"
   ]
  },
  {
   "cell_type": "code",
   "execution_count": null,
   "metadata": {},
   "outputs": [],
   "source": []
  },
  {
   "cell_type": "code",
   "execution_count": 9,
   "metadata": {},
   "outputs": [
    {
     "data": {
      "application/vnd.jupyter.widget-view+json": {
       "model_id": "694c173961ae478fb12afa6e299fc6d3",
       "version_major": 2,
       "version_minor": 0
      },
      "text/plain": [
       "FileUpload(value={}, description='Upload')"
      ]
     },
     "metadata": {},
     "output_type": "display_data"
    }
   ],
   "source": []
  },
  {
   "cell_type": "code",
   "execution_count": null,
   "metadata": {},
   "outputs": [],
   "source": []
  },
  {
   "cell_type": "code",
   "execution_count": null,
   "metadata": {},
   "outputs": [],
   "source": []
  },
  {
   "cell_type": "code",
   "execution_count": null,
   "metadata": {},
   "outputs": [],
   "source": []
  },
  {
   "cell_type": "code",
   "execution_count": null,
   "metadata": {},
   "outputs": [],
   "source": []
  },
  {
   "cell_type": "code",
   "execution_count": null,
   "metadata": {},
   "outputs": [],
   "source": []
  }
 ],
 "metadata": {
  "kernelspec": {
   "display_name": "Python 3",
   "language": "python",
   "name": "python3"
  },
  "language_info": {
   "codemirror_mode": {
    "name": "ipython",
    "version": 3
   },
   "file_extension": ".py",
   "mimetype": "text/x-python",
   "name": "python",
   "nbconvert_exporter": "python",
   "pygments_lexer": "ipython3",
   "version": "3.7.7"
  }
 },
 "nbformat": 4,
 "nbformat_minor": 2
}
